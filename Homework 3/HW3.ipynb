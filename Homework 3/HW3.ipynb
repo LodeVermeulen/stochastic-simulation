{
 "cells": [
  {
   "cell_type": "markdown",
   "metadata": {},
   "source": [
    "### This notebook is for problem set 3 of the stochastic simulation course. We have picked the traveling salesman problem (TSP).\n",
    "\n",
    "All graphs analyzed in this notebook are assumed to:\n",
    "1. Be complete graphs (all nodes are adjacent to all other nodes)\n",
    "2. Follow the triangle inequality (the shortest path between nodes is through the edge that connects them)\n",
    "3. Symmetric (the path from A to B has the same length as B to A)"
   ]
  },
  {
   "cell_type": "code",
   "execution_count": 7,
   "metadata": {},
   "outputs": [],
   "source": [
    "import numpy as np\n",
    "import pandas as pd\n",
    "import os"
   ]
  },
  {
   "cell_type": "markdown",
   "metadata": {},
   "source": [
    "### Optimizing path length using simulated annealing and the Boltzmann distribution"
   ]
  },
  {
   "cell_type": "code",
   "execution_count": 39,
   "metadata": {},
   "outputs": [
    {
     "name": "stdout",
     "output_type": "stream",
     "text": [
      "  Node   X   Y\n",
      "0    1  37  52\n",
      "1    2  49  49\n",
      "2    3  52  64\n",
      "3    4  20  26\n",
      "4    5  40  30\n",
      "  Path\n",
      "0    1\n",
      "1   22\n",
      "2    8\n",
      "3   26\n",
      "4   31\n"
     ]
    }
   ],
   "source": [
    "def load_data(file_path: str) -> pd.DataFrame:\n",
    "    \"\"\"Load the the nodes as defined in the TSP-Configurations folders in a dataframe.\n",
    "\n",
    "    Args:\n",
    "        file_path: The path to the file to load the data from.\n",
    "\n",
    "    Returns:\n",
    "        Dataframe with columns \"Node\", \"X\" and \"Y\", representing the node and its coordinates.\n",
    "    \"\"\"\n",
    "    with open(file_path, \"r\") as file:\n",
    "        lines = file.readlines()\n",
    "\n",
    "    # Find the data by detecting the text 'NODE_COORD_SECTION'\n",
    "    start_idx = lines.index(\"NODE_COORD_SECTION\\n\") + 1\n",
    "\n",
    "    # Extract data until EOF\n",
    "    data = []\n",
    "    for line in lines[start_idx:]:\n",
    "        if line.strip() == \"EOF\":\n",
    "            break\n",
    "        data.append(line.strip())\n",
    "\n",
    "    # Convert the extracted data into a DataFrame\n",
    "    df = pd.DataFrame([line.split() for line in data], columns=[\"Node\", \"X\", \"Y\"])\n",
    "\n",
    "    return df\n",
    "\n",
    "def load_solutions(file_path: str) -> pd.DataFrame:\n",
    "    \"\"\"Load the the optimal TSP solutions as defined in the TSP-Configurations folders in a dataframe.\n",
    "\n",
    "    Args:\n",
    "        file_path: The path to the file to load the solutions from.\n",
    "\n",
    "    Returns:\n",
    "        Dataframe with column \"Path\", representing the optimal path of the TSP.\n",
    "    \"\"\"\n",
    "    with open(file_path, \"r\") as file:\n",
    "        lines = file.readlines()\n",
    "\n",
    "    # Find the data by detecting the text 'TOUR_SECTION'\n",
    "    start_idx = lines.index(\"TOUR_SECTION\\n\") + 1\n",
    "\n",
    "    # Extract data until -1\n",
    "    data = []\n",
    "    for line in lines[start_idx:]:\n",
    "        if line.strip() == \"-1\":\n",
    "            break\n",
    "        data.append(line.strip())\n",
    "    \n",
    "    # Convert the extracted data into a DataFrame\n",
    "    df = pd.DataFrame(data, columns=[\"Path\"])\n",
    "\n",
    "    return df\n",
    "\n",
    "small_tsp_data_path = \"TSP-Configurations/eil51.tsp.txt\"\n",
    "small_tsp_solution_path = \"TSP-Configurations/eil51.opt.tour.txt\"\n",
    "medium_tsp_data_path = \"TSP-Configurations/a280.tsp.tx\"\n",
    "medium_tsp_solution_path = \"TSP-Configurations/a280.opt.tour.txt\"\n",
    "large_tsp_data_path = \"TSP-Configurations/pcb442.tsp.tx\"\n",
    "medium_tsp_solution_path = \"TSP-Configurations/pcb442.opt.tour.txt\"\n",
    "\n",
    "cities = load_data(small_tsp_data_path)\n",
    "print(cities.head())\n",
    "opt_path = load_solutions(small_tsp_solution_path)\n",
    "print(opt_path.head())"
   ]
  },
  {
   "cell_type": "code",
   "execution_count": null,
   "metadata": {},
   "outputs": [],
   "source": []
  }
 ],
 "metadata": {
  "kernelspec": {
   "display_name": "Python 3",
   "language": "python",
   "name": "python3"
  },
  "language_info": {
   "codemirror_mode": {
    "name": "ipython",
    "version": 3
   },
   "file_extension": ".py",
   "mimetype": "text/x-python",
   "name": "python",
   "nbconvert_exporter": "python",
   "pygments_lexer": "ipython3",
   "version": "3.10.9"
  }
 },
 "nbformat": 4,
 "nbformat_minor": 2
}
